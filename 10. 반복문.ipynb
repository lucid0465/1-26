{
 "cells": [
  {
   "cell_type": "markdown",
   "id": "2f3d5712",
   "metadata": {},
   "source": [
    "## 1. while 문"
   ]
  },
  {
   "cell_type": "code",
   "execution_count": null,
   "id": "370f239a",
   "metadata": {},
   "outputs": [],
   "source": [
    "# 기본 구문\n",
    "\n",
    "value = 1\n",
    "\n",
    "while value <= 5:\n",
    "    print(value)\n",
    "    value += 1\n",
    "\n",
    "print(\"------------------------\")\n",
    "print(value)"
   ]
  },
  {
   "cell_type": "code",
   "execution_count": null,
   "id": "5a9c5c12",
   "metadata": {},
   "outputs": [],
   "source": [
    "# 1부터 10중에 홀수만 출력 : while문 안에 if문 \n",
    "\n",
    "value = 1\n",
    "\n",
    "while value <= 10:\n",
    "    if value % 2 == 1:\n",
    "        print(value)\n",
    "        \n",
    "    value += 1"
   ]
  },
  {
   "cell_type": "code",
   "execution_count": null,
   "id": "2fc5bd68",
   "metadata": {},
   "outputs": [],
   "source": [
    "# 1에서 100까지 더해서 합한 결과 출력하기\n",
    "# value가 10의 배수인 경우만 합한 결과 출력하기\n",
    "\n",
    "value = 1\n",
    "total = 0\n",
    "total2 = 0\n",
    "\n",
    "while value <= 100:\n",
    "    total = total + value\n",
    "    \n",
    "    #print(value, total)\n",
    "    \n",
    "    if value % 10 == 0:\n",
    "        total2 += value\n",
    "        #print(value, total2)        \n",
    "        \n",
    "    value += 1\n",
    "    \n",
    "print(total)    \n",
    "print(total2)"
   ]
  },
  {
   "cell_type": "code",
   "execution_count": null,
   "id": "b1a5062b",
   "metadata": {},
   "outputs": [],
   "source": [
    "# 사용자로부터 숫자를 입력받아요 (1~4)\n",
    "# 입력메세지\n",
    "\"\"\" 1. Add\n",
    "2. Del\n",
    "3. List\n",
    "4. Quit\n",
    "Enter Number : \n",
    "\"\"\"\n",
    "# 입력받은 값이 4인 경우가 아니면 계속 반복해서 입력받기\n",
    "\n",
    "prompt = \"\"\"1. Add\n",
    "2. Del\n",
    "3. List\n",
    "4. Quit\n",
    "Enter Number : \n",
    "\"\"\"\n",
    "num = 0\n",
    "\n",
    "while num != 4 :\n",
    "    num = int(input(prompt))\n",
    "    print(num)\n",
    "    \n",
    "print(\"종료\")    "
   ]
  },
  {
   "cell_type": "markdown",
   "id": "16989274",
   "metadata": {},
   "source": [
    "## 2. for 문"
   ]
  },
  {
   "cell_type": "code",
   "execution_count": null,
   "id": "34aef13b",
   "metadata": {},
   "outputs": [],
   "source": [
    "# 기본 구문\n",
    "\n",
    "set_a = {'c', 'b', 'a'}\n",
    "\n",
    "for item in set_a:\n",
    "    print(item)"
   ]
  },
  {
   "cell_type": "code",
   "execution_count": null,
   "id": "e4127792",
   "metadata": {},
   "outputs": [],
   "source": [
    "# 반복 횟수만 필요할때\n",
    "\n",
    "list_a = [1, 2, 3]\n",
    "\n",
    "num = 0\n",
    "for item in list_a:\n",
    "    num += 1\n",
    "    print(num)"
   ]
  },
  {
   "cell_type": "code",
   "execution_count": null,
   "id": "21d6bf2f",
   "metadata": {},
   "outputs": [],
   "source": [
    "# 튜플일 경우 반복문\n",
    "\n",
    "list_a = [(1, 2), (3, 4), (5, 6)]\n",
    "\n",
    "for item in list_a:\n",
    "    print(item)\n",
    "    \n",
    "for k, v in list_a:\n",
    "    print(k, v)"
   ]
  },
  {
   "cell_type": "code",
   "execution_count": null,
   "id": "7a0ec7c3",
   "metadata": {},
   "outputs": [],
   "source": [
    "# 딕셔너리일 경우 반복문\n",
    "\n",
    "dict_a = { \"fruit\":\"apple\", \"int_num\":10, \"float_num\":3.5, \"gubun\":True }\n",
    "\n",
    "for item in dict_a.items():\n",
    "    print(item)\n",
    "    \n",
    "for k, v in dict_a.items():\n",
    "    print(k, v)    "
   ]
  },
  {
   "cell_type": "code",
   "execution_count": null,
   "id": "26edc3fd",
   "metadata": {},
   "outputs": [],
   "source": [
    "# for문 예제\n",
    "# 시험점수 리스트 생성 : 45, 65, 75, 55, 85\n",
    "# 시험점수가 60점 이상이면 합격, 그 외 불합격 출력\n",
    "# \"0번 학생 00점으로 합격/불합격입니다.\"\n",
    "\n",
    "points = [45, 65, 75, 55, 85]\n",
    "num = 0\n",
    "\n",
    "# 1) + 연산자 포매팅\n",
    "for point in points:\n",
    "    num += 1\n",
    "    if point >= 60:\n",
    "        print(str(num) + \"번 학생 \" + str(point) + \"점으로 합격입니다.\")\n",
    "    else:\n",
    "        print(str(num) + \"번 학생 \" + str(point) + \"점으로 불합격입니다.\")\n",
    "        \n",
    "# 2) 표식 연산자 포매팅        \n",
    "for point in points:\n",
    "    num += 1\n",
    "    if point >= 60:\n",
    "        print(\"%d번 학생 %d점으로 합격입니다.\" % (num, point))\n",
    "    else:\n",
    "        print(\"%d번 학생 %d점으로 불합격입니다.\"% (num, point))\n",
    "\n",
    "# 3) format 메서드 포매팅        \n",
    "for point in points:\n",
    "    num += 1\n",
    "    if point >= 60:\n",
    "        print(\"{}번 학생 {}점으로 합격입니다.\".format(num, point))\n",
    "    else:\n",
    "        print(\"{}번 학생 {}점으로 불합격입니다.\".format(num, point))\n",
    "\n",
    "# 4) f 문자열 포매팅        \n",
    "for point in points:\n",
    "    num += 1\n",
    "    if point >= 60:\n",
    "        print(f\"{num}번 학생 {point}점으로 합격입니다.\")\n",
    "    else:\n",
    "        print(f\"{num}번 학생 {point}점으로 불합격입니다.\")"
   ]
  },
  {
   "cell_type": "markdown",
   "id": "d91061ae",
   "metadata": {},
   "source": [
    "## 3. continue"
   ]
  },
  {
   "cell_type": "code",
   "execution_count": null,
   "id": "78856cef",
   "metadata": {},
   "outputs": [],
   "source": [
    "points = [45, 65, 75, 55, 85]\n",
    "num = 0\n",
    "\n",
    "for point in points:\n",
    "    num += 1\n",
    "    \n",
    "    if point < 60:\n",
    "        continue\n",
    "        \n",
    "    print(\"%d번 학생 %d점으로 합격입니다.\" % (num, point))   \n",
    "    \n",
    "# if point >= 60:\n",
    "#     print(\"%d번 학생 %d점으로 합격입니다.\" % (num, point))   \n",
    "    "
   ]
  },
  {
   "cell_type": "markdown",
   "id": "2c334367",
   "metadata": {},
   "source": [
    "## 4. break"
   ]
  },
  {
   "cell_type": "code",
   "execution_count": null,
   "id": "62a1c79e",
   "metadata": {},
   "outputs": [],
   "source": [
    "# 합격자수 2명만 출력\n",
    "\n",
    "points = [45, 65, 75, 55, 85]\n",
    "num = 0\n",
    "hap = 0\n",
    "\n",
    "for point in points:\n",
    "    num += 1\n",
    "    \n",
    "    if point >= 60:\n",
    "        hap += 1   \n",
    "        print(\"%d번 학생 %d점으로 합격입니다.\" % (num, point))  \n",
    "    \n",
    "    if hap >= 2:\n",
    "        break    "
   ]
  },
  {
   "cell_type": "code",
   "execution_count": null,
   "id": "36e439ed",
   "metadata": {},
   "outputs": [],
   "source": [
    "# 1에서 100까지 합산하되 합한 값이 100보다 큰 경우 합산 종료\n",
    "\n",
    "number = 1\n",
    "sum = 0\n",
    "\n",
    "while number <= 100:\n",
    "    sum += number\n",
    "    if sum >= 100:\n",
    "        break\n",
    "    number += 1\n",
    "\n",
    "print(number, sum)\n"
   ]
  },
  {
   "cell_type": "code",
   "execution_count": null,
   "id": "377721bd",
   "metadata": {},
   "outputs": [],
   "source": [
    "# 커피 자판기 예제 : while문 사용\n",
    "# 커피 재료 : 10잔, 돈이 300원 (한잔당 10원)\n",
    "# 커피 1잔 -> 9잔, 돈은 290원\n",
    "\n",
    "# 커피가 소진될 경우 \"커피가 모두 소진되었습니다. 판매 중단합니다.\" 종료\n",
    "# 남은 돈이 없을 경우 \"돈이 없습니다.\" 종료\n",
    "# 커피도 있고, 돈도 있을 경우 \"커피를 제공합니다.\" 출력\n",
    "\n",
    "# 남은돈은 00이고, 남은 커피는 00잔입니다.\n",
    "\n",
    "num = 0\n",
    "coffee = 10\n",
    "money = 300\n",
    "\n",
    "while True:\n",
    "    coffee = coffee - 1\n",
    "    money = money - 10\n",
    "    num += 1\n",
    "    #print(coffee, money)\n",
    "    \n",
    "    if coffee < 0:\n",
    "        print(\"커피가 모두 소진되었습니다. 판매 중단합니다.\")\n",
    "        break\n",
    "    \n",
    "    if money < 0:\n",
    "        print(\"돈이 없습니다.\")\n",
    "        break\n",
    "    print()\n",
    "    print(\"커피를 제공합니다.\")\n",
    "    print(\"남은돈은 %d이고, 남은 커피는 %d잔입니다.\"%(money, coffee))"
   ]
  },
  {
   "cell_type": "markdown",
   "id": "56869005",
   "metadata": {},
   "source": [
    "## 5. range"
   ]
  },
  {
   "cell_type": "code",
   "execution_count": null,
   "id": "25e86d26",
   "metadata": {},
   "outputs": [],
   "source": [
    "# end 값만 존재\n",
    "print(range(10))\n",
    "print(list(range(10)))\n",
    "\n",
    "# start, end 값 존재\n",
    "print(list(range(1,11)))\n",
    "\n",
    "# start, end, step 값 존재\n",
    "print(list(range(1,11,2)))\n",
    "\n",
    "# step - 값\n",
    "print(list(range(10,0,-1)))"
   ]
  },
  {
   "cell_type": "code",
   "execution_count": null,
   "id": "876678ed",
   "metadata": {},
   "outputs": [],
   "source": [
    "# for문에서 사용\n",
    "for i in range(10):\n",
    "    print(i)\n",
    "    \n"
   ]
  },
  {
   "cell_type": "code",
   "execution_count": null,
   "id": "8b7b1ecf",
   "metadata": {},
   "outputs": [],
   "source": [
    "# for문에 range로 반복할 경우\n",
    "\n",
    "points = [45, 65, 75, 55, 85]\n",
    "\n",
    "for num in range(len(points)):\n",
    "    print(num)"
   ]
  },
  {
   "cell_type": "code",
   "execution_count": null,
   "id": "1963ed39",
   "metadata": {},
   "outputs": [],
   "source": [
    "# 삼각형 출력\n",
    "\n",
    "# *\n",
    "# **\n",
    "# ***\n",
    "# ----------\n",
    "# **********\n",
    "\n",
    "for i in range(1,11):\n",
    "    print(\"*\" * i)"
   ]
  },
  {
   "cell_type": "code",
   "execution_count": null,
   "id": "def3479e",
   "metadata": {},
   "outputs": [],
   "source": [
    "# 역삼각형 출력\n",
    "\n",
    "#          *\n",
    "#         **\n",
    "#        ***\n",
    "\n",
    "# **********\n",
    "\n",
    "for i in range(1,11):\n",
    "    print(\" \"*(10-i) + \"+\"*i)"
   ]
  },
  {
   "cell_type": "markdown",
   "id": "62700021",
   "metadata": {},
   "source": [
    "## 6. 이중루프"
   ]
  },
  {
   "cell_type": "code",
   "execution_count": null,
   "id": "7803d8eb",
   "metadata": {},
   "outputs": [],
   "source": [
    "# 구구단 \n",
    "# 2단 : for문\n",
    "\n",
    "for j in range(1,10):\n",
    "    print(\"2 * %d = %d\"%(j, 2 * j))   \n",
    "    \n",
    "print(\"-----------------------------\")\n",
    "print(\"2 * 1 = 2\")\n",
    "print(\"2 * 2 = 4\")\n",
    "print(\"2 * 3 = 6\")\n",
    "print(\"2 * 9 = 18\")"
   ]
  },
  {
   "cell_type": "code",
   "execution_count": null,
   "id": "be8966ea",
   "metadata": {},
   "outputs": [],
   "source": [
    "# 3단 : for문\n",
    "\n",
    "for j in range(1,10):\n",
    "    print(\"3 * %d = %d\"%(j, 3 * j)) "
   ]
  },
  {
   "cell_type": "code",
   "execution_count": null,
   "id": "53ffbea1",
   "metadata": {},
   "outputs": [],
   "source": [
    "# 4단 : for문\n",
    "\n",
    "for j in range(1,10):\n",
    "    print(\"4 * %d = %d\"%(j, 4 * j)) "
   ]
  },
  {
   "cell_type": "code",
   "execution_count": null,
   "id": "a855463c",
   "metadata": {},
   "outputs": [],
   "source": [
    "# 구구단 최종본\n",
    "for i in range(2,10):\n",
    "    print(\"------- %d 단 -------\"% i)\n",
    "    \n",
    "    for j in range(1,10):\n",
    "        print(\"%d * %d = %d\"%( i, j, i * j))   "
   ]
  },
  {
   "cell_type": "code",
   "execution_count": null,
   "id": "094e6680",
   "metadata": {},
   "outputs": [],
   "source": [
    "# 이중리스트 이중루프로 요소 가져오기\n",
    "\n",
    "lista = [(1,2,3), ('a','b')]\n",
    "\n",
    "for item in lista:\n",
    "    print(item)\n",
    "    for value in item:\n",
    "        print(value)  "
   ]
  },
  {
   "cell_type": "markdown",
   "id": "70fe0923",
   "metadata": {},
   "source": [
    "### 7. 리스트 컴프리헨션"
   ]
  },
  {
   "cell_type": "code",
   "execution_count": null,
   "id": "222f778e",
   "metadata": {},
   "outputs": [],
   "source": [
    "# for문으로 작성\n",
    "# list_a = [1, 2, 3, 4, 5] -> \n",
    "# list_a의 요소를 각각 3씩 곱해서 list_b 생성 : [3, 6, 9, 12, 15]\n",
    "\n",
    "list_a = [1, 2, 3, 4, 5]\n",
    "list_b = []\n",
    "\n",
    "for item in list_a:\n",
    "    if item % 2 == 0:\n",
    "        list_b.append(item * 3)\n",
    "\n",
    "print(list_b)    "
   ]
  },
  {
   "cell_type": "code",
   "execution_count": null,
   "id": "84a29237",
   "metadata": {},
   "outputs": [],
   "source": [
    "# 리스트 컴프리헨션 이용\n",
    "\n",
    "list_a = [1, 2, 3, 4, 5]\n",
    "list_b =[ item * 3 for item in list_a ]\n",
    "\n",
    "print(list_b)"
   ]
  },
  {
   "cell_type": "code",
   "execution_count": null,
   "id": "236f4def",
   "metadata": {},
   "outputs": [],
   "source": [
    "# 리스트 컴프리헨션 이용 : if문 추가\n",
    "\n",
    "list_a = [1, 2, 3, 4, 5]\n",
    "list_b =[ item * 3 for item in list_a if item % 2 == 0]\n",
    "\n",
    "print(list_b)"
   ]
  },
  {
   "cell_type": "code",
   "execution_count": null,
   "id": "c4f00c2c",
   "metadata": {},
   "outputs": [],
   "source": [
    "# 리스트 컴프리헨션 이용 : if ~ else문 추가\n",
    "\n",
    "list_a = [1, 2, 3, 4, 5]\n",
    "list_b =[ item * 3 if item % 2 == 0 else 0 for item in list_a ]\n",
    "\n",
    "print(list_b)"
   ]
  }
 ],
 "metadata": {
  "kernelspec": {
   "display_name": "Python 3 (ipykernel)",
   "language": "python",
   "name": "python3"
  },
  "language_info": {
   "codemirror_mode": {
    "name": "ipython",
    "version": 3
   },
   "file_extension": ".py",
   "mimetype": "text/x-python",
   "name": "python",
   "nbconvert_exporter": "python",
   "pygments_lexer": "ipython3",
   "version": "3.10.6"
  }
 },
 "nbformat": 4,
 "nbformat_minor": 5
}
